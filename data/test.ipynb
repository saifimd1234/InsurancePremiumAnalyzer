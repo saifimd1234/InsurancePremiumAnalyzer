{
 "cells": [
  {
   "cell_type": "code",
   "execution_count": 1,
   "id": "574f2b97",
   "metadata": {},
   "outputs": [
    {
     "name": "stdout",
     "output_type": "stream",
     "text": [
      "✅ Found FORM NL-4 table on page 4\n",
      "\n",
      "📌 Extracted Line:\n",
      "Gross Direct Premium 96,804 5,664 1,591 1,04,059 96,804 5,664 1,591 1,04,059\n"
     ]
    }
   ],
   "source": [
    "import pdfplumber\n",
    "import re\n",
    "\n",
    "# === Load PDF ===\n",
    "pdf_path = \"Q1 2025.pdf\"  # use full path if needed\n",
    "\n",
    "def extract_nl4_data(pdf_path):\n",
    "    with pdfplumber.open(pdf_path) as pdf:\n",
    "        for page_num, page in enumerate(pdf.pages, start=1):\n",
    "            text = page.extract_text()\n",
    "            if not text:\n",
    "                continue\n",
    "\n",
    "            # Step 1: Confirm this page contains FORM NL-4\n",
    "            if \"FORM NL-4\" in text and \"PREMIUM SCHEDULE\" in text:\n",
    "                print(f\"✅ Found FORM NL-4 table on page {page_num}\\n\")\n",
    "\n",
    "                # Step 2: Print the full page text (or extract just the required table rows)\n",
    "                lines = text.split(\"\\n\")\n",
    "                for line in lines:\n",
    "                    # Print the Gross Direct Premium line only\n",
    "                    if \"Gross Direct Premium\" in line:\n",
    "                        print(\"📌 Extracted Line:\")\n",
    "                        print(line)\n",
    "                        return line  # optionally return if you want to extract only one table\n",
    "    print(\"❌ FORM NL-4 or Gross Direct Premium not found in the PDF.\")\n",
    "    return None\n",
    "\n",
    "# Run the function\n",
    "extracted_line = extract_nl4_data(pdf_path)\n"
   ]
  },
  {
   "cell_type": "code",
   "execution_count": null,
   "id": "9f574859",
   "metadata": {},
   "outputs": [],
   "source": []
  }
 ],
 "metadata": {
  "kernelspec": {
   "display_name": "venv",
   "language": "python",
   "name": "python3"
  },
  "language_info": {
   "codemirror_mode": {
    "name": "ipython",
    "version": 3
   },
   "file_extension": ".py",
   "mimetype": "text/x-python",
   "name": "python",
   "nbconvert_exporter": "python",
   "pygments_lexer": "ipython3",
   "version": "3.11.5"
  }
 },
 "nbformat": 4,
 "nbformat_minor": 5
}
