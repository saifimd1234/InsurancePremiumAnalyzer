{
 "cells": [
  {
   "cell_type": "code",
   "execution_count": 27,
   "id": "8ab93947",
   "metadata": {},
   "outputs": [
    {
     "name": "stdout",
     "output_type": "stream",
     "text": [
      "--- Debugging Text from: data/Q1 2024.pdf ---\n",
      "\n",
      "*** Found 'FORM NL-4' on Page 4 ***\n",
      "\n",
      "Aditya Birla Health Insurance Co. Limited\n",
      "Registration No. 153 and Dated 11 July 2016\n",
      "FORM NL-4-PREMIUM SCHEDULE\n",
      "(Amount in Rs. Lakhs)\n",
      "Health Personal Accident Travel Total Health Personal Accident Travel Total\n",
      "Particulars\n",
      "(A) (B) (C) (A + B + C) (A) (B) (C) (A + B + C)\n",
      "For The Quarter Ended 30th June 2023 For The Period Ended 30th June 2023\n",
      "Gross Direct Premium 71,231 4,869 1,076 77,176 71,231 4,869 1,076 77,176\n",
      "Add: Premium on reinsurance accepted - - - - - - - -\n",
      "Less : Premium on reinsurance ceded 15,813 263 51 16,127 15,813 263 51 16,127\n",
      "Net Written Premium 55,418 4,606 1,025 61,049 55,418 4,606 1,025 61,049\n",
      "Add: Opening balance of UPR 99,544 7,437 252 1,07,233 99,544 7,437 252 1,07,233\n",
      "Less: Closing balance of UPR 1,03,756 7,808 125 1,11,689 1,03,756 7,808 125 1,11,689\n",
      "Net Earned Premium 51,205 4,236 1,152 56,593 51,205 4,236 1,152 56,593\n",
      "Gross Direct Premium\n",
      "- In India 71,231 4,869 1,076 77,176 71,231 4,869 1,076 77,176\n",
      "- Outside India - - - - - - - -\n",
      "Health Personal Accident Travel Total Health Personal Accident Travel Total\n",
      "Particulars\n",
      "(A) (B) (C) (A + B + C) (A) (B) (C) (A + B + C)\n",
      "For The Quarter Ended 30th June 2022 For The Period Ended 30th June 2022\n",
      "Gross Direct Premium 56,992 4,180 1,867 63,039 56,992 4,180 1,867 63,039\n",
      "Add: Premium on reinsurance accepted - - - - - - - -\n",
      "Less : Premium on reinsurance ceded 10,107 291 75 10,473 10,107 291 75 10,473\n",
      "Net Written Premium 46,885 3,889 1,792 52,566 46,885 3,889 1,792 52,566\n",
      "Add: Opening balance of UPR 58,838 6,667 31 65,537 58,838 6,667 31 65,537\n",
      "Less: Closing balance of UPR 69,761 7,053 90 76,904 69,761 7,053 90 76,904\n",
      "Net Earned Premium 35,961 3,504 1,733 41,198 35,961 3,504 1,733 41,198\n",
      "Gross Direct Premium\n",
      "- In India 56,992 4,180 1,867 63,039 56,992 4,180 1,867 63,039\n",
      "- Outside India - - - - - - - -\n",
      "\n",
      "--- End of Page Text ---\n",
      "\n",
      "*** Extracted Table Data ***\n",
      "\n",
      "['FORM NL-4-PREMIUM SCHEDULE\\n(Amount in Rs. Lakhs)', None, None, None, None, None, None, None, None, None, None]\n",
      "['', 'Particulars', 'Health', 'Personal Accident', 'Travel', 'Total', 'Health', 'Personal Accident', 'Travel', 'Total', '']\n",
      "[None, None, '(A)', '(B)', '(C)', '(A + B + C)', '(A)', '(B)', '(C)', '(A + B + C)', None]\n",
      "[None, None, 'For The Quarter Ended 30th June 2023', None, None, None, 'For The Period Ended 30th June 2023', None, None, None, None]\n",
      "['', 'Gross Direct Premium', '71,231', '4,869', '1,076', '77,176', '71,231', '4,869', '1,076', '77,176', None]\n",
      "[None, 'Add: Premium on reinsurance accepted', '-', '-', '-', '-', '-', '-', '-', '-', None]\n",
      "[None, 'Less : Premium on reinsurance ceded', '15,813', '263', '51', '16,127', '15,813', '263', '51', '16,127', None]\n",
      "[None, 'Net Written Premium', '55,418', '4,606', '1,025', '61,049', '55,418', '4,606', '1,025', '61,049', None]\n",
      "[None, 'Add: Opening balance of UPR', '99,544', '7,437', '252', '1,07,233', '99,544', '7,437', '252', '1,07,233', None]\n",
      "[None, 'Less: Closing balance of UPR', '1,03,756', '7,808', '125', '1,11,689', '1,03,756', '7,808', '125', '1,11,689', None]\n",
      "['', 'Net Earned Premium', '51,205', '4,236', '1,152', '56,593', '51,205', '4,236', '1,152', '56,593', None]\n",
      "['', '', '', '', '', '', '', '', '', '', None]\n",
      "[None, 'Gross Direct Premium', '', '', '', '', '', '', '', '', None]\n",
      "[None, '- In India', '71,231', '4,869', '1,076', '77,176', '71,231', '4,869', '1,076', '77,176', None]\n",
      "[None, '- Outside India', '-', '-', '-', '-', '-', '-', '-', '-', None]\n",
      "['', None, None, None, None, None, None, None, None, None, None]\n",
      "['', 'Particulars', 'Health', 'Personal Accident', 'Travel', 'Total', 'Health', 'Personal Accident', 'Travel', 'Total', None]\n",
      "[None, None, '(A)', '(B)', '(C)', '(A + B + C)', '(A)', '(B)', '(C)', '(A + B + C)', None]\n",
      "[None, None, 'For The Quarter Ended 30th June 2022', None, None, None, 'For The Period Ended 30th June 2022', None, None, None, None]\n",
      "['', 'Gross Direct Premium', '56,992', '4,180', '1,867', '63,039', '56,992', '4,180', '1,867', '63,039', None]\n",
      "[None, 'Add: Premium on reinsurance accepted', '-', '-', '-', '-', '-', '-', '-', '-', None]\n",
      "[None, 'Less : Premium on reinsurance ceded', '10,107', '291', '75', '10,473', '10,107', '291', '75', '10,473', None]\n",
      "[None, 'Net Written Premium', '46,885', '3,889', '1,792', '52,566', '46,885', '3,889', '1,792', '52,566', None]\n",
      "[None, 'Add: Opening balance of UPR', '58,838', '6,667', '31', '65,537', '58,838', '6,667', '31', '65,537', None]\n",
      "[None, 'Less: Closing balance of UPR', '69,761', '7,053', '90', '76,904', '69,761', '7,053', '90', '76,904', None]\n",
      "['', 'Net Earned Premium', '35,961', '3,504', '1,733', '41,198', '35,961', '3,504', '1,733', '41,198', None]\n",
      "['', '', '', '', '', '', '', '', '', '', None]\n",
      "[None, 'Gross Direct Premium', '', '', '', '', '', '', '', '', None]\n",
      "[None, '- In India', '56,992', '4,180', '1,867', '63,039', '56,992', '4,180', '1,867', '63,039', None]\n",
      "[None, '- Outside India', '-', '-', '-', '-', '-', '-', '-', '-', None]\n",
      "['', None, None, None, None, None, None, None, None, None, None]\n",
      "\n",
      "--- End of Table Data ---\n",
      "\n",
      "--- End of Debug ---\n"
     ]
    }
   ],
   "source": [
    "import pdfplumber\n",
    "import re\n",
    "\n",
    "def debug_pdf_text(pdf_path):\n",
    "    \"\"\"\n",
    "    This function opens a PDF and prints the text from the page\n",
    "    containing \"FORM NL-4\" to help diagnose extraction issues.\n",
    "    \"\"\"\n",
    "    print(f\"--- Debugging Text from: {pdf_path} ---\")\n",
    "    try:\n",
    "        with pdfplumber.open(pdf_path) as pdf:\n",
    "            found_page = False\n",
    "            for i, page in enumerate(pdf.pages):\n",
    "                # Using a tighter tolerance can sometimes help with layout\n",
    "                text = page.extract_text(x_tolerance=2, y_tolerance=2) or \"\"\n",
    "                \n",
    "                # Find the page with the relevant header\n",
    "                if \"FORM NL-4\" in text.upper() and \"PREMIUM SCHEDULE\" in text.upper():\n",
    "                    print(f\"\\n*** Found 'FORM NL-4' on Page {i + 1} ***\\n\")\n",
    "                    print(text)\n",
    "                    print(\"\\n--- End of Page Text ---\")\n",
    "                    \n",
    "                    # Also, let's see what the table extractor gets\n",
    "                    table = page.extract_table()\n",
    "                    if table:\n",
    "                        print(\"\\n*** Extracted Table Data ***\\n\")\n",
    "                        for row in table:\n",
    "                            print(row)\n",
    "                        print(\"\\n--- End of Table Data ---\")\n",
    "                    else:\n",
    "                        print(\"\\n*** Could not extract a table from this page. ***\")\n",
    "\n",
    "                    found_page = True\n",
    "                    break # We only need the first matching page\n",
    "            \n",
    "            if not found_page:\n",
    "                print(\"\\n*** CRITICAL: Could not find a page with 'FORM NL-4' and 'PREMIUM SCHEDULE'. ***\")\n",
    "                # As a fallback, let's print the text from the first page to see the provider name\n",
    "                if pdf.pages:\n",
    "                    print(\"\\n--- Printing text from Page 1 as a fallback: ---\\n\")\n",
    "                    print(pdf.pages[0].extract_text(x_tolerance=2, y_tolerance=2))\n",
    "                    \n",
    "    except Exception as e:\n",
    "        print(f\"An error occurred while processing the PDF: {e}\")\n",
    "        \n",
    "    print(\"\\n--- End of Debug ---\")\n",
    "\n",
    "# --- PLEASE SET THIS TO A FAILING PDF FILE ---\n",
    "file_to_debug = \"data/Q1 2024.pdf\" \n",
    "# ---------------------------------------------\n",
    "\n",
    "debug_pdf_text(file_to_debug)\n"
   ]
  },
  {
   "cell_type": "code",
   "execution_count": 1,
   "id": "6b70bfe4",
   "metadata": {},
   "outputs": [],
   "source": [
    "import os\n",
    "import glob\n",
    "import pandas as pd\n",
    "import pdfplumber\n",
    "import re"
   ]
  },
  {
   "cell_type": "code",
   "execution_count": 2,
   "id": "bf601093",
   "metadata": {},
   "outputs": [],
   "source": [
    "# --- 1. SETUP: Define your data and output directories ---\n",
    "BASE_DIR = os.getcwd()\n",
    "DATA_DIR = os.path.join(BASE_DIR, \"data\")\n",
    "OUT_DIR = os.path.join(BASE_DIR, \"output\")"
   ]
  },
  {
   "cell_type": "code",
   "execution_count": 3,
   "id": "83c69567",
   "metadata": {},
   "outputs": [],
   "source": [
    "# --- 2. THE PARSER: The final, corrected function ---\n",
    "def parse_nl4_table_final(pdf_path):\n",
    "    \"\"\"\n",
    "    Extracts Health, Personal Accident, and Travel premium data from\n",
    "    a FORM NL-4 PDF schedule. This version robustly finds the premium\n",
    "    row even with PDF table extraction inconsistencies.\n",
    "    \"\"\"\n",
    "    provider = \"\"\n",
    "    month_map = {\n",
    "        'march': {'quarter': 'Q4', 'fy_offset': 0}, 'mar': {'quarter': 'Q4', 'fy_offset': 0},\n",
    "        'june': {'quarter': 'Q1', 'fy_offset': 1}, 'jun': {'quarter': 'Q1', 'fy_offset': 1},\n",
    "        'september': {'quarter': 'Q2', 'fy_offset': 1}, 'sep': {'quarter': 'Q2', 'fy_offset': 1},\n",
    "        'december': {'quarter': 'Q3', 'fy_offset': 1}, 'dec': {'quarter': 'Q3', 'fy_offset': 1}\n",
    "    }\n",
    "\n",
    "    try:\n",
    "        with pdfplumber.open(pdf_path) as pdf:\n",
    "            if pdf.pages:\n",
    "                first_page_text = pdf.pages[0].extract_text(x_tolerance=2) or \"\"\n",
    "                for line in first_page_text.splitlines():\n",
    "                    if \"Insurance\" in line and (\"Ltd\" in line or \"Limited\" in line):\n",
    "                        m = re.search(r\"([A-Za-z &]+Insurance[^,\\n]*)\", line)\n",
    "                        if m:\n",
    "                            provider = m.group(1).strip()\n",
    "                            break\n",
    "\n",
    "            for page in pdf.pages:\n",
    "                text = page.extract_text(x_tolerance=2) or \"\"\n",
    "                if \"FORM NL-4\" in text.upper() and \"PREMIUM SCHEDULE\" in text.upper():\n",
    "                    fy, quarter = None, None\n",
    "                    pat = re.compile(r\"For\\s+The\\s+Quarter\\s+Ended\\s+\\d{1,2}(?:st|nd|rd|th)?\\s+([A-Za-z]+)[, ]+\\s*(\\d{4})\", re.IGNORECASE)\n",
    "                    match = pat.search(text)\n",
    "                    if match:\n",
    "                        month_str, year = match.group(1).lower(), int(match.group(2))\n",
    "                        for key, meta in month_map.items():\n",
    "                            if month_str.startswith(key[:3]):\n",
    "                                quarter, fy_year = meta['quarter'], year + meta['fy_offset']\n",
    "                                fy = f\"FY{str(fy_year)[-2:]}\"\n",
    "                                break\n",
    "                    \n",
    "                    table = page.extract_table()\n",
    "                    if not table: continue\n",
    "\n",
    "                    for row in table:\n",
    "                        if row and any(cell and re.search(r\"Gross\\s+Direct\\s+Premium\", str(cell)) for cell in row):\n",
    "                            numeric_values = [str(cell).replace(\",\", \"\").strip() for cell in row if cell and isinstance(cell, str) and str(cell).replace(\",\", \"\").strip().isdigit()]\n",
    "                            if len(numeric_values) >= 4:\n",
    "                                h, p, t, tot = [int(x) for x in numeric_values[:4]]\n",
    "                                result = {\n",
    "                                    \"provider\": provider or \"Unknown\", \"quarter\": quarter, \"fiscal_year\": fy,\n",
    "                                    \"health\": h, \"personal_accident\": p, \"travel\": t, \"total\": tot\n",
    "                                }\n",
    "                                result['source_file'] = os.path.basename(pdf_path)\n",
    "                                return result\n",
    "                    break \n",
    "    except Exception as e:\n",
    "        print(f\"  -> An error occurred while processing {os.path.basename(pdf_path)}: {e}\")\n",
    "    return None\n",
    "\n"
   ]
  },
  {
   "cell_type": "code",
   "execution_count": 4,
   "id": "6fd5aa85",
   "metadata": {},
   "outputs": [
    {
     "name": "stdout",
     "output_type": "stream",
     "text": [
      "📄 Processing: c:\\Users\\saifi\\GitHub\\InsurancePremiumAnalyzer\\data\\Q1 2024.pdf\n",
      "✅ Extracted: Aditya Birla Health Insurance Co. Limited, FY24 Q1\n",
      "📄 Processing: c:\\Users\\saifi\\GitHub\\InsurancePremiumAnalyzer\\data\\Q1 2025.pdf\n",
      "✅ Extracted: Aditya Birla Health Insurance Co. Limited, FY25 Q1\n",
      "📄 Processing: c:\\Users\\saifi\\GitHub\\InsurancePremiumAnalyzer\\data\\Q1 FY 23.pdf\n",
      "✅ Extracted: Aditya Birla Health Insurance Co. Limited, FY23 Q1\n",
      "📄 Processing: c:\\Users\\saifi\\GitHub\\InsurancePremiumAnalyzer\\data\\Q2 2024.pdf\n",
      "✅ Extracted: Aditya Birla Health Insurance Co. Limited, FY24 Q2\n",
      "📄 Processing: c:\\Users\\saifi\\GitHub\\InsurancePremiumAnalyzer\\data\\Q2 2025.pdf\n",
      "✅ Extracted: Aditya Birla Health Insurance Co. Limited, FY25 Q2\n",
      "📄 Processing: c:\\Users\\saifi\\GitHub\\InsurancePremiumAnalyzer\\data\\Q2 FY 23.pdf\n",
      "✅ Extracted: Aditya Birla Health Insurance Co. Limited, FY23 Q2\n",
      "📄 Processing: c:\\Users\\saifi\\GitHub\\InsurancePremiumAnalyzer\\data\\Q3 2024.pdf\n",
      "✅ Extracted: Aditya Birla Health Insurance Co. Limited, FY24 Q3\n",
      "📄 Processing: c:\\Users\\saifi\\GitHub\\InsurancePremiumAnalyzer\\data\\Q3 2025.pdf\n",
      "✅ Extracted: Aditya Birla Health Insurance Co. Limited, FY25 Q3\n",
      "📄 Processing: c:\\Users\\saifi\\GitHub\\InsurancePremiumAnalyzer\\data\\Q3 FY 23.pdf\n",
      "✅ Extracted: Aditya Birla Health Insurance Co. Limited, FY23 Q3\n",
      "📄 Processing: c:\\Users\\saifi\\GitHub\\InsurancePremiumAnalyzer\\data\\Q4 2024.pdf\n",
      "✅ Extracted: Aditya Birla Health Insurance Co. Limited, FY24 Q4\n",
      "📄 Processing: c:\\Users\\saifi\\GitHub\\InsurancePremiumAnalyzer\\data\\Q4 2025.pdf\n",
      "✅ Extracted: Aditya Birla Health Insurance Co. Limited, FY25 Q4\n",
      "📄 Processing: c:\\Users\\saifi\\GitHub\\InsurancePremiumAnalyzer\\data\\Q4 FY 23.pdf\n",
      "✅ Extracted: Aditya Birla Health Insurance Co. Limited, FY23 Q4\n",
      "\n",
      "Total successfully extracted: 12\n",
      "Total failed: 0\n"
     ]
    }
   ],
   "source": [
    "# --- 3. PROCESSING LOOP: Extract data from all PDFs ---\n",
    "records = []\n",
    "failed_files = []\n",
    "\n",
    "if not os.path.isdir(DATA_DIR):\n",
    "    print(f\"❌ Error: Data directory not found at '{DATA_DIR}'\")\n",
    "else:\n",
    "    for pdf_file in sorted(glob.glob(os.path.join(DATA_DIR, \"*.pdf\"))):\n",
    "        print(f\"📄 Processing: {pdf_file}\")\n",
    "        result = parse_nl4_table_final(pdf_file)\n",
    "        if result:\n",
    "            print(f\"✅ Extracted: {result['provider']}, {result['fiscal_year']} {result['quarter']}\")\n",
    "            records.append(result)\n",
    "        else:\n",
    "            print(f\"❌ Failed to extract data from: {pdf_file}\")\n",
    "            failed_files.append(pdf_file)\n",
    "\n",
    "    print(f\"\\nTotal successfully extracted: {len(records)}\")\n",
    "    print(f\"Total failed: {len(failed_files)}\")\n",
    "\n",
    "\n"
   ]
  },
  {
   "cell_type": "code",
   "execution_count": 5,
   "id": "ae71b47e",
   "metadata": {},
   "outputs": [
    {
     "name": "stdout",
     "output_type": "stream",
     "text": [
      "\n",
      "✅ Data successfully saved to CSV: c:\\Users\\saifi\\GitHub\\InsurancePremiumAnalyzer\\output\\premium_by_quarter.csv\n",
      "\n",
      "--- DataFrame Preview ---\n",
      "                                    provider  year quarter  health  \\\n",
      "0  Aditya Birla Health Insurance Co. Limited  2024      Q1   71231   \n",
      "1  Aditya Birla Health Insurance Co. Limited  2025      Q1   96804   \n",
      "2  Aditya Birla Health Insurance Co. Limited  2023      Q1   56992   \n",
      "3  Aditya Birla Health Insurance Co. Limited  2024      Q2   73826   \n",
      "4  Aditya Birla Health Insurance Co. Limited  2025      Q2  104814   \n",
      "\n",
      "   personal_accident  travel   total   source_file  \n",
      "0               4869    1076   77176   Q1 2024.pdf  \n",
      "1               5664    1591  104059   Q1 2025.pdf  \n",
      "2               4180    1867   63039  Q1 FY 23.pdf  \n",
      "3               4222     827   78875   Q2 2024.pdf  \n",
      "4               6843    1365  113022   Q2 2025.pdf  \n"
     ]
    }
   ],
   "source": [
    "# --- 4. DATAFRAME CREATION AND SAVING (WITH YOUR CHANGES) ---\n",
    "if records:\n",
    "    df = pd.DataFrame(records)\n",
    "    \n",
    "    # --- MODIFICATION BLOCK START ---\n",
    "    \n",
    "    # 1. Rename the 'fiscal_year' column to 'year'\n",
    "    df.rename(columns={'fiscal_year': 'year'}, inplace=True)\n",
    "    \n",
    "    # 2. Convert year values from 'FY24' to integer 2024\n",
    "    if 'year' in df.columns:\n",
    "        df['year'] = df['year'].apply(lambda fy_str: int(f\"20{fy_str[2:]}\") if fy_str else None)\n",
    "\n",
    "    # --- MODIFICATION BLOCK END ---\n",
    "\n",
    "    # Reorder columns with the new 'year' column\n",
    "    column_order = [\n",
    "        'provider', 'year', 'quarter', \n",
    "        'health', 'personal_accident', 'travel', 'total', 'source_file'\n",
    "    ]\n",
    "    df = df[column_order]\n",
    "\n",
    "    os.makedirs(OUT_DIR, exist_ok=True)\n",
    "    out_csv = os.path.join(OUT_DIR, \"premium_by_quarter.csv\")\n",
    "    df.to_csv(out_csv, index=False)\n",
    "    print(f\"\\n✅ Data successfully saved to CSV: {out_csv}\")\n",
    "\n",
    "    print(\"\\n--- DataFrame Preview ---\")\n",
    "    print(df.head())\n",
    "else:\n",
    "    print(\"\\nNo data was extracted, so no file was saved.\")"
   ]
  },
  {
   "cell_type": "code",
   "execution_count": 7,
   "id": "00cb56fa",
   "metadata": {},
   "outputs": [
    {
     "data": {
      "application/vnd.microsoft.datawrangler.viewer.v0+json": {
       "columns": [
        {
         "name": "index",
         "rawType": "int64",
         "type": "integer"
        },
        {
         "name": "provider",
         "rawType": "object",
         "type": "string"
        },
        {
         "name": "year",
         "rawType": "int64",
         "type": "integer"
        },
        {
         "name": "quarter",
         "rawType": "object",
         "type": "string"
        },
        {
         "name": "health",
         "rawType": "int64",
         "type": "integer"
        },
        {
         "name": "personal_accident",
         "rawType": "int64",
         "type": "integer"
        },
        {
         "name": "travel",
         "rawType": "int64",
         "type": "integer"
        },
        {
         "name": "total",
         "rawType": "int64",
         "type": "integer"
        },
        {
         "name": "source_file",
         "rawType": "object",
         "type": "string"
        }
       ],
       "ref": "f376d82c-6524-4f68-9e9e-cc6c4d603351",
       "rows": [
        [
         "0",
         "Aditya Birla Health Insurance Co. Limited",
         "2024",
         "Q1",
         "71231",
         "4869",
         "1076",
         "77176",
         "Q1 2024.pdf"
        ],
        [
         "1",
         "Aditya Birla Health Insurance Co. Limited",
         "2025",
         "Q1",
         "96804",
         "5664",
         "1591",
         "104059",
         "Q1 2025.pdf"
        ],
        [
         "2",
         "Aditya Birla Health Insurance Co. Limited",
         "2023",
         "Q1",
         "56992",
         "4180",
         "1867",
         "63039",
         "Q1 FY 23.pdf"
        ],
        [
         "3",
         "Aditya Birla Health Insurance Co. Limited",
         "2024",
         "Q2",
         "73826",
         "4222",
         "827",
         "78875",
         "Q2 2024.pdf"
        ],
        [
         "4",
         "Aditya Birla Health Insurance Co. Limited",
         "2025",
         "Q2",
         "104814",
         "6843",
         "1365",
         "113022",
         "Q2 2025.pdf"
        ]
       ],
       "shape": {
        "columns": 8,
        "rows": 5
       }
      },
      "text/html": [
       "<div>\n",
       "<style scoped>\n",
       "    .dataframe tbody tr th:only-of-type {\n",
       "        vertical-align: middle;\n",
       "    }\n",
       "\n",
       "    .dataframe tbody tr th {\n",
       "        vertical-align: top;\n",
       "    }\n",
       "\n",
       "    .dataframe thead th {\n",
       "        text-align: right;\n",
       "    }\n",
       "</style>\n",
       "<table border=\"1\" class=\"dataframe\">\n",
       "  <thead>\n",
       "    <tr style=\"text-align: right;\">\n",
       "      <th></th>\n",
       "      <th>provider</th>\n",
       "      <th>year</th>\n",
       "      <th>quarter</th>\n",
       "      <th>health</th>\n",
       "      <th>personal_accident</th>\n",
       "      <th>travel</th>\n",
       "      <th>total</th>\n",
       "      <th>source_file</th>\n",
       "    </tr>\n",
       "  </thead>\n",
       "  <tbody>\n",
       "    <tr>\n",
       "      <th>0</th>\n",
       "      <td>Aditya Birla Health Insurance Co. Limited</td>\n",
       "      <td>2024</td>\n",
       "      <td>Q1</td>\n",
       "      <td>71231</td>\n",
       "      <td>4869</td>\n",
       "      <td>1076</td>\n",
       "      <td>77176</td>\n",
       "      <td>Q1 2024.pdf</td>\n",
       "    </tr>\n",
       "    <tr>\n",
       "      <th>1</th>\n",
       "      <td>Aditya Birla Health Insurance Co. Limited</td>\n",
       "      <td>2025</td>\n",
       "      <td>Q1</td>\n",
       "      <td>96804</td>\n",
       "      <td>5664</td>\n",
       "      <td>1591</td>\n",
       "      <td>104059</td>\n",
       "      <td>Q1 2025.pdf</td>\n",
       "    </tr>\n",
       "    <tr>\n",
       "      <th>2</th>\n",
       "      <td>Aditya Birla Health Insurance Co. Limited</td>\n",
       "      <td>2023</td>\n",
       "      <td>Q1</td>\n",
       "      <td>56992</td>\n",
       "      <td>4180</td>\n",
       "      <td>1867</td>\n",
       "      <td>63039</td>\n",
       "      <td>Q1 FY 23.pdf</td>\n",
       "    </tr>\n",
       "    <tr>\n",
       "      <th>3</th>\n",
       "      <td>Aditya Birla Health Insurance Co. Limited</td>\n",
       "      <td>2024</td>\n",
       "      <td>Q2</td>\n",
       "      <td>73826</td>\n",
       "      <td>4222</td>\n",
       "      <td>827</td>\n",
       "      <td>78875</td>\n",
       "      <td>Q2 2024.pdf</td>\n",
       "    </tr>\n",
       "    <tr>\n",
       "      <th>4</th>\n",
       "      <td>Aditya Birla Health Insurance Co. Limited</td>\n",
       "      <td>2025</td>\n",
       "      <td>Q2</td>\n",
       "      <td>104814</td>\n",
       "      <td>6843</td>\n",
       "      <td>1365</td>\n",
       "      <td>113022</td>\n",
       "      <td>Q2 2025.pdf</td>\n",
       "    </tr>\n",
       "  </tbody>\n",
       "</table>\n",
       "</div>"
      ],
      "text/plain": [
       "                                    provider  year quarter  health  \\\n",
       "0  Aditya Birla Health Insurance Co. Limited  2024      Q1   71231   \n",
       "1  Aditya Birla Health Insurance Co. Limited  2025      Q1   96804   \n",
       "2  Aditya Birla Health Insurance Co. Limited  2023      Q1   56992   \n",
       "3  Aditya Birla Health Insurance Co. Limited  2024      Q2   73826   \n",
       "4  Aditya Birla Health Insurance Co. Limited  2025      Q2  104814   \n",
       "\n",
       "   personal_accident  travel   total   source_file  \n",
       "0               4869    1076   77176   Q1 2024.pdf  \n",
       "1               5664    1591  104059   Q1 2025.pdf  \n",
       "2               4180    1867   63039  Q1 FY 23.pdf  \n",
       "3               4222     827   78875   Q2 2024.pdf  \n",
       "4               6843    1365  113022   Q2 2025.pdf  "
      ]
     },
     "execution_count": 7,
     "metadata": {},
     "output_type": "execute_result"
    }
   ],
   "source": [
    "df = pd.read_csv(os.path.join(OUT_DIR, \"premium_by_quarter.csv\"))\n",
    "df.head()"
   ]
  },
  {
   "cell_type": "code",
   "execution_count": 9,
   "id": "9f622933",
   "metadata": {},
   "outputs": [
    {
     "name": "stdout",
     "output_type": "stream",
     "text": [
      "<class 'pandas.core.frame.DataFrame'>\n",
      "RangeIndex: 12 entries, 0 to 11\n",
      "Data columns (total 8 columns):\n",
      " #   Column             Non-Null Count  Dtype \n",
      "---  ------             --------------  ----- \n",
      " 0   provider           12 non-null     object\n",
      " 1   year               12 non-null     int64 \n",
      " 2   quarter            12 non-null     object\n",
      " 3   health             12 non-null     int64 \n",
      " 4   personal_accident  12 non-null     int64 \n",
      " 5   travel             12 non-null     int64 \n",
      " 6   total              12 non-null     int64 \n",
      " 7   source_file        12 non-null     object\n",
      "dtypes: int64(5), object(3)\n",
      "memory usage: 900.0+ bytes\n"
     ]
    }
   ],
   "source": [
    "df.info()"
   ]
  },
  {
   "cell_type": "code",
   "execution_count": 10,
   "id": "da6846aa",
   "metadata": {},
   "outputs": [
    {
     "data": {
      "application/vnd.microsoft.datawrangler.viewer.v0+json": {
       "columns": [
        {
         "name": "index",
         "rawType": "object",
         "type": "string"
        },
        {
         "name": "year",
         "rawType": "float64",
         "type": "float"
        },
        {
         "name": "health",
         "rawType": "float64",
         "type": "float"
        },
        {
         "name": "personal_accident",
         "rawType": "float64",
         "type": "float"
        },
        {
         "name": "travel",
         "rawType": "float64",
         "type": "float"
        },
        {
         "name": "total",
         "rawType": "float64",
         "type": "float"
        }
       ],
       "ref": "732e2381-7f5a-4e37-8c52-62a0ee924f4a",
       "rows": [
        [
         "count",
         "12.0",
         "12.0",
         "12.0",
         "12.0",
         "12.0"
        ],
        [
         "mean",
         "2024.0",
         "86057.5",
         "6296.583333333333",
         "1313.0833333333333",
         "93667.08333333333"
        ],
        [
         "std",
         "0.8528028654224418",
         "28916.482746948073",
         "3660.935932451585",
         "474.78961050387807",
         "30245.775829657254"
        ],
        [
         "min",
         "2023.0",
         "52953.0",
         "3705.0",
         "702.0",
         "58783.0"
        ],
        [
         "25%",
         "2023.0",
         "68041.25",
         "4160.25",
         "841.25",
         "73887.5"
        ],
        [
         "50%",
         "2024.0",
         "78851.0",
         "5104.0",
         "1270.5",
         "84874.5"
        ],
        [
         "75%",
         "2025.0",
         "98806.5",
         "7036.75",
         "1758.0",
         "106837.5"
        ],
        [
         "max",
         "2025.0",
         "151441.0",
         "16955.0",
         "1970.0",
         "160314.0"
        ]
       ],
       "shape": {
        "columns": 5,
        "rows": 8
       }
      },
      "text/html": [
       "<div>\n",
       "<style scoped>\n",
       "    .dataframe tbody tr th:only-of-type {\n",
       "        vertical-align: middle;\n",
       "    }\n",
       "\n",
       "    .dataframe tbody tr th {\n",
       "        vertical-align: top;\n",
       "    }\n",
       "\n",
       "    .dataframe thead th {\n",
       "        text-align: right;\n",
       "    }\n",
       "</style>\n",
       "<table border=\"1\" class=\"dataframe\">\n",
       "  <thead>\n",
       "    <tr style=\"text-align: right;\">\n",
       "      <th></th>\n",
       "      <th>year</th>\n",
       "      <th>health</th>\n",
       "      <th>personal_accident</th>\n",
       "      <th>travel</th>\n",
       "      <th>total</th>\n",
       "    </tr>\n",
       "  </thead>\n",
       "  <tbody>\n",
       "    <tr>\n",
       "      <th>count</th>\n",
       "      <td>12.000000</td>\n",
       "      <td>12.000000</td>\n",
       "      <td>12.000000</td>\n",
       "      <td>12.000000</td>\n",
       "      <td>12.000000</td>\n",
       "    </tr>\n",
       "    <tr>\n",
       "      <th>mean</th>\n",
       "      <td>2024.000000</td>\n",
       "      <td>86057.500000</td>\n",
       "      <td>6296.583333</td>\n",
       "      <td>1313.083333</td>\n",
       "      <td>93667.083333</td>\n",
       "    </tr>\n",
       "    <tr>\n",
       "      <th>std</th>\n",
       "      <td>0.852803</td>\n",
       "      <td>28916.482747</td>\n",
       "      <td>3660.935932</td>\n",
       "      <td>474.789611</td>\n",
       "      <td>30245.775830</td>\n",
       "    </tr>\n",
       "    <tr>\n",
       "      <th>min</th>\n",
       "      <td>2023.000000</td>\n",
       "      <td>52953.000000</td>\n",
       "      <td>3705.000000</td>\n",
       "      <td>702.000000</td>\n",
       "      <td>58783.000000</td>\n",
       "    </tr>\n",
       "    <tr>\n",
       "      <th>25%</th>\n",
       "      <td>2023.000000</td>\n",
       "      <td>68041.250000</td>\n",
       "      <td>4160.250000</td>\n",
       "      <td>841.250000</td>\n",
       "      <td>73887.500000</td>\n",
       "    </tr>\n",
       "    <tr>\n",
       "      <th>50%</th>\n",
       "      <td>2024.000000</td>\n",
       "      <td>78851.000000</td>\n",
       "      <td>5104.000000</td>\n",
       "      <td>1270.500000</td>\n",
       "      <td>84874.500000</td>\n",
       "    </tr>\n",
       "    <tr>\n",
       "      <th>75%</th>\n",
       "      <td>2025.000000</td>\n",
       "      <td>98806.500000</td>\n",
       "      <td>7036.750000</td>\n",
       "      <td>1758.000000</td>\n",
       "      <td>106837.500000</td>\n",
       "    </tr>\n",
       "    <tr>\n",
       "      <th>max</th>\n",
       "      <td>2025.000000</td>\n",
       "      <td>151441.000000</td>\n",
       "      <td>16955.000000</td>\n",
       "      <td>1970.000000</td>\n",
       "      <td>160314.000000</td>\n",
       "    </tr>\n",
       "  </tbody>\n",
       "</table>\n",
       "</div>"
      ],
      "text/plain": [
       "              year         health  personal_accident       travel  \\\n",
       "count    12.000000      12.000000          12.000000    12.000000   \n",
       "mean   2024.000000   86057.500000        6296.583333  1313.083333   \n",
       "std       0.852803   28916.482747        3660.935932   474.789611   \n",
       "min    2023.000000   52953.000000        3705.000000   702.000000   \n",
       "25%    2023.000000   68041.250000        4160.250000   841.250000   \n",
       "50%    2024.000000   78851.000000        5104.000000  1270.500000   \n",
       "75%    2025.000000   98806.500000        7036.750000  1758.000000   \n",
       "max    2025.000000  151441.000000       16955.000000  1970.000000   \n",
       "\n",
       "               total  \n",
       "count      12.000000  \n",
       "mean    93667.083333  \n",
       "std     30245.775830  \n",
       "min     58783.000000  \n",
       "25%     73887.500000  \n",
       "50%     84874.500000  \n",
       "75%    106837.500000  \n",
       "max    160314.000000  "
      ]
     },
     "execution_count": 10,
     "metadata": {},
     "output_type": "execute_result"
    }
   ],
   "source": [
    "df.describe()"
   ]
  },
  {
   "cell_type": "markdown",
   "id": "4f56b7d2",
   "metadata": {},
   "source": [
    "### Average Premium by Quarter"
   ]
  },
  {
   "cell_type": "code",
   "execution_count": 11,
   "id": "981c19e8",
   "metadata": {},
   "outputs": [
    {
     "data": {
      "application/vnd.microsoft.datawrangler.viewer.v0+json": {
       "columns": [
        {
         "name": "quarter",
         "rawType": "object",
         "type": "string"
        },
        {
         "name": "health",
         "rawType": "float64",
         "type": "float"
        },
        {
         "name": "personal_accident",
         "rawType": "float64",
         "type": "float"
        },
        {
         "name": "travel",
         "rawType": "float64",
         "type": "float"
        },
        {
         "name": "total",
         "rawType": "float64",
         "type": "float"
        }
       ],
       "ref": "4e75148d-1ca2-4a9b-b852-9d866360b543",
       "rows": [
        [
         "Q1",
         "75009.0",
         "4904.333333333333",
         "1511.3333333333333",
         "81424.66666666667"
        ],
        [
         "Q2",
         "79037.33333333333",
         "4923.333333333333",
         "1345.6666666666667",
         "85306.33333333333"
        ],
        [
         "Q3",
         "72482.66666666667",
         "8798.333333333334",
         "1202.3333333333333",
         "82483.0"
        ],
        [
         "Q4",
         "117701.0",
         "6560.333333333333",
         "1193.0",
         "125454.33333333333"
        ]
       ],
       "shape": {
        "columns": 4,
        "rows": 4
       }
      },
      "text/html": [
       "<div>\n",
       "<style scoped>\n",
       "    .dataframe tbody tr th:only-of-type {\n",
       "        vertical-align: middle;\n",
       "    }\n",
       "\n",
       "    .dataframe tbody tr th {\n",
       "        vertical-align: top;\n",
       "    }\n",
       "\n",
       "    .dataframe thead th {\n",
       "        text-align: right;\n",
       "    }\n",
       "</style>\n",
       "<table border=\"1\" class=\"dataframe\">\n",
       "  <thead>\n",
       "    <tr style=\"text-align: right;\">\n",
       "      <th></th>\n",
       "      <th>health</th>\n",
       "      <th>personal_accident</th>\n",
       "      <th>travel</th>\n",
       "      <th>total</th>\n",
       "    </tr>\n",
       "    <tr>\n",
       "      <th>quarter</th>\n",
       "      <th></th>\n",
       "      <th></th>\n",
       "      <th></th>\n",
       "      <th></th>\n",
       "    </tr>\n",
       "  </thead>\n",
       "  <tbody>\n",
       "    <tr>\n",
       "      <th>Q1</th>\n",
       "      <td>75009.000000</td>\n",
       "      <td>4904.333333</td>\n",
       "      <td>1511.333333</td>\n",
       "      <td>81424.666667</td>\n",
       "    </tr>\n",
       "    <tr>\n",
       "      <th>Q2</th>\n",
       "      <td>79037.333333</td>\n",
       "      <td>4923.333333</td>\n",
       "      <td>1345.666667</td>\n",
       "      <td>85306.333333</td>\n",
       "    </tr>\n",
       "    <tr>\n",
       "      <th>Q3</th>\n",
       "      <td>72482.666667</td>\n",
       "      <td>8798.333333</td>\n",
       "      <td>1202.333333</td>\n",
       "      <td>82483.000000</td>\n",
       "    </tr>\n",
       "    <tr>\n",
       "      <th>Q4</th>\n",
       "      <td>117701.000000</td>\n",
       "      <td>6560.333333</td>\n",
       "      <td>1193.000000</td>\n",
       "      <td>125454.333333</td>\n",
       "    </tr>\n",
       "  </tbody>\n",
       "</table>\n",
       "</div>"
      ],
      "text/plain": [
       "                health  personal_accident       travel          total\n",
       "quarter                                                              \n",
       "Q1        75009.000000        4904.333333  1511.333333   81424.666667\n",
       "Q2        79037.333333        4923.333333  1345.666667   85306.333333\n",
       "Q3        72482.666667        8798.333333  1202.333333   82483.000000\n",
       "Q4       117701.000000        6560.333333  1193.000000  125454.333333"
      ]
     },
     "execution_count": 11,
     "metadata": {},
     "output_type": "execute_result"
    }
   ],
   "source": [
    "df.groupby(\"quarter\")[[\"health\", \"personal_accident\", \"travel\", \"total\"]].mean()"
   ]
  },
  {
   "cell_type": "markdown",
   "id": "5b233d68",
   "metadata": {},
   "source": [
    "### Plot Gross Direct Premium Over Time"
   ]
  },
  {
   "cell_type": "code",
   "execution_count": 8,
   "id": "bae7a5c2",
   "metadata": {},
   "outputs": [
    {
     "data": {
      "image/png": "[encoded data removed]",
      "text/plain": [
       "<Figure size 1000x600 with 1 Axes>"
      ]
     },
     "metadata": {},
     "output_type": "display_data"
    }
   ],
   "source": [
    "import matplotlib.pyplot as plt\n",
    "\n",
    "df_sorted = df.sort_values(by=[\"year\", \"quarter\"])\n",
    "df_sorted[\"label\"] = df_sorted[\"year\"].astype(str) + \" \" + df_sorted[\"quarter\"]\n",
    "\n",
    "plt.figure(figsize=(10,6))\n",
    "plt.plot(df_sorted[\"label\"], df_sorted[\"total\"], marker=\"o\", label=\"Total Premium\")\n",
    "plt.title(\"Gross Direct Premium Over Quarters\")\n",
    "plt.xlabel(\"Quarter\")\n",
    "plt.ylabel(\"Total Premium\")\n",
    "plt.xticks(rotation=45)\n",
    "plt.grid(True)\n",
    "plt.tight_layout()\n",
    "plt.show()\n"
   ]
  },
  {
   "cell_type": "code",
   "execution_count": null,
   "id": "4a29029f",
   "metadata": {},
   "outputs": [],
   "source": []
  },
  {
   "cell_type": "code",
   "execution_count": null,
   "id": "56359439",
   "metadata": {},
   "outputs": [],
   "source": []
  },
  {
   "cell_type": "code",
   "execution_count": null,
   "metadata": {},
   "outputs": [],
   "source": []
  },
  {
   "cell_type": "code",
   "execution_count": null,
   "metadata": {},
   "outputs": [],
   "source": []
  },
  {
   "cell_type": "code",
   "execution_count": null,
   "metadata": {},
   "outputs": [],
   "source": []
  },
  {
   "cell_type": "code",
   "execution_count": null,
   "id": "43edf84e",
   "metadata": {},
   "outputs": [],
   "source": []
  }
 ],
 "metadata": {
  "kernelspec": {
   "display_name": "venv",
   "language": "python",
   "name": "python3"
  },
  "language_info": {
   "codemirror_mode": {
    "name": "ipython",
    "version": 3
   },
   "file_extension": ".py",
   "mimetype": "text/x-python",
   "name": "python",
   "nbconvert_exporter": "python",
   "pygments_lexer": "ipython3",
   "version": "3.11.5"
  }
 },
 "nbformat": 4,
 "nbformat_minor": 5
}
